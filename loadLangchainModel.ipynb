{
 "cells": [
  {
   "metadata": {
    "ExecuteTime": {
     "end_time": "2025-04-27T01:23:39.681776Z",
     "start_time": "2025-04-27T01:23:39.677283Z"
    }
   },
   "cell_type": "code",
   "source": [
    "from langchain_huggingface import ChatHuggingFace, HuggingFaceEndpoint\n",
    "from langchain_core.messages import (\n",
    "    HumanMessage,\n",
    "    SystemMessage,\n",
    ")\n",
    "\n",
    "import getpass\n",
    "import os\n",
    "\n",
    "if not os.getenv(\"HUGGINGFACEHUB_READ_API_TOKEN\"):\n",
    "    os.environ[\"HUGGINGFACEHUB_READ_API_TOKEN\"] = getpass.getpass(\"Enter your token: \")"
   ],
   "id": "c9518e52e11cc90",
   "outputs": [],
   "execution_count": 3
  },
  {
   "cell_type": "code",
   "id": "initial_id",
   "metadata": {
    "collapsed": true,
    "ExecuteTime": {
     "end_time": "2025-04-27T01:34:28.305807Z",
     "start_time": "2025-04-27T01:34:03.064894Z"
    }
   },
   "source": [
    "llm = HuggingFaceEndpoint(\n",
    "    # repo_id=\"microsoft/Phi-3.5-mini-instruct\",\n",
    "    repo_id=\"Qwen/Qwen2.5-Coder-32B-Instruct\",\n",
    "    task=\"text-generation\",\n",
    "    max_new_tokens=512,\n",
    "    do_sample=False,\n",
    "    repetition_penalty=1.03,\n",
    ")\n",
    "\n",
    "chat_model = ChatHuggingFace(llm=llm)\n",
    "\n",
    "messages = [\n",
    "    SystemMessage(content=\"You're a helpful code assistant\"),\n",
    "    HumanMessage(\n",
    "        content=\"Help me write a program in java that has the fibonacci series using recursion\"\n",
    "    ),\n",
    "]\n",
    "\n",
    "ai_msg = chat_model.invoke(messages)\n",
    "print(ai_msg)"
   ],
   "outputs": [
    {
     "data": {
      "text/plain": [
       "tokenizer_config.json:   0%|          | 0.00/7.30k [00:00<?, ?B/s]"
      ],
      "application/vnd.jupyter.widget-view+json": {
       "version_major": 2,
       "version_minor": 0,
       "model_id": "2468a06c6d934b06a80d3be6d75cc6fd"
      }
     },
     "metadata": {},
     "output_type": "display_data"
    },
    {
     "data": {
      "text/plain": [
       "vocab.json:   0%|          | 0.00/2.78M [00:00<?, ?B/s]"
      ],
      "application/vnd.jupyter.widget-view+json": {
       "version_major": 2,
       "version_minor": 0,
       "model_id": "ad1d1ccb3657454bb865e13cdbd11eff"
      }
     },
     "metadata": {},
     "output_type": "display_data"
    },
    {
     "data": {
      "text/plain": [
       "merges.txt:   0%|          | 0.00/1.67M [00:00<?, ?B/s]"
      ],
      "application/vnd.jupyter.widget-view+json": {
       "version_major": 2,
       "version_minor": 0,
       "model_id": "c080dfd554ab456990bcb7488f58f4c9"
      }
     },
     "metadata": {},
     "output_type": "display_data"
    },
    {
     "data": {
      "text/plain": [
       "tokenizer.json:   0%|          | 0.00/7.03M [00:00<?, ?B/s]"
      ],
      "application/vnd.jupyter.widget-view+json": {
       "version_major": 2,
       "version_minor": 0,
       "model_id": "a59ccd3076d545d7876b2dee8821764f"
      }
     },
     "metadata": {},
     "output_type": "display_data"
    },
    {
     "name": "stdout",
     "output_type": "stream",
     "text": [
      "content='Certainly! Below is a simple Java program that calculates the Fibonacci series using recursion. The Fibonacci series is a sequence of numbers where each number is the sum of the two preceding ones, usually starting with 0 and 1.\\n\\nHere\\'s how you can implement it:\\n\\n```java\\npublic class FibonacciRecursion {\\n\\n    // Recursive method to calculate Fibonacci series\\n    public static int fibonacci(int n) {\\n        if (n <= 1) {\\n            return n;\\n        }\\n        return fibonacci(n - 1) + fibonacci(n - 2);\\n    }\\n\\n    public static void main(String[] args) {\\n        int n = 10; // Number of terms in the Fibonacci series\\n\\n        System.out.println(\"Fibonacci series up to \" + n + \" terms:\");\\n        for (int i = 0; i < n; i++) {\\n            System.out.print(fibonacci(i) + \" \");\\n        }\\n    }\\n}\\n```\\n\\n### Explanation:\\n1. **Recursive Method (`fibonacci(int n)`):**\\n   - This method is defined to calculate the Fibonacci number at the `n-th` position.\\n   - If `n` is 0 or 1, it returns `n` directly (base cases).\\n   - For other values of `n`, it returns the sum of the Fibonacci numbers at positions `n-1` and `n-2`.\\n\\n2. **Main Method (`main(String[] args)`):**\\n   - We define `n` as the number of terms in the Fibonacci series that we want to print.\\n   - We use a loop to print the Fibonacci series by calling the `fibonacci` method for each term from 0 to `n-1`.\\n\\n### Note:\\n- This recursive approach is simple and easy to understand, but it is not efficient for large values of `n` due to repeated calculations. Each call to `fibonacci(n)` results in two more calls until it reaches the base case, leading to an exponential time complexity.\\n- For better performance with larger numbers, consider using an iterative approach or memoization to store previously computed Fibonacci numbers.' additional_kwargs={} response_metadata={'token_usage': ChatCompletionOutputUsage(completion_tokens=428, prompt_tokens=33, total_tokens=461), 'model': '', 'finish_reason': 'stop'} id='run-dd68ceb5-0818-47be-9fff-073692969124-0'\n"
     ]
    }
   ],
   "execution_count": 13
  },
  {
   "metadata": {},
   "cell_type": "code",
   "outputs": [],
   "execution_count": null,
   "source": "",
   "id": "37a6d658a16f7d1c"
  }
 ],
 "metadata": {
  "kernelspec": {
   "display_name": "Python 3",
   "language": "python",
   "name": "python3"
  },
  "language_info": {
   "codemirror_mode": {
    "name": "ipython",
    "version": 2
   },
   "file_extension": ".py",
   "mimetype": "text/x-python",
   "name": "python",
   "nbconvert_exporter": "python",
   "pygments_lexer": "ipython2",
   "version": "2.7.6"
  }
 },
 "nbformat": 4,
 "nbformat_minor": 5
}
